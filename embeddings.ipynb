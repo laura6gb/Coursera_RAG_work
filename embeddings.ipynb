{
 "cells": [
  {
   "cell_type": "code",
   "execution_count": 4,
   "id": "d566bb99-6808-4976-8476-ed05b7941b80",
   "metadata": {},
   "outputs": [
    {
     "data": {
      "text/plain": [
       "211"
      ]
     },
     "execution_count": 4,
     "metadata": {},
     "output_type": "execute_result"
    }
   ],
   "source": [
    "import pandas as pd\n",
    "\n",
    "data = pd.read_csv(\"books.csv\")\n",
    "\n",
    "\n",
    "# Since Publisher and Author has NaN values, we will replace them with \"Unknown\"\n",
    "data[\"Publisher\"] = data[\"Publisher\"].fillna(\"Unknown\")\n",
    "data[\"Author\"] = data[\"Author\"].fillna(\"Unknown\")\n",
    "\n",
    "data_books = data.to_dict(\"records\")\n",
    "\n",
    "len(data)"
   ]
  },
  {
   "cell_type": "code",
   "execution_count": 5,
   "id": "2b0e4be5-7518-4458-bf47-6913ef9a72a9",
   "metadata": {},
   "outputs": [
    {
     "name": "stderr",
     "output_type": "stream",
     "text": [
      "c:\\Users\\LauraGalvisBarona\\AppData\\Local\\Programs\\Python\\Python313\\Lib\\site-packages\\tqdm\\auto.py:21: TqdmWarning: IProgress not found. Please update jupyter and ipywidgets. See https://ipywidgets.readthedocs.io/en/stable/user_install.html\n",
      "  from .autonotebook import tqdm as notebook_tqdm\n"
     ]
    }
   ],
   "source": [
    "from qdrant_client import models, QdrantClient\n",
    "from sentence_transformers import SentenceTransformer\n",
    "\n",
    "encoder = SentenceTransformer(\"all-MiniLM-L6-v2\")  # Model to create embeddings\n",
    "\n",
    "# Create the vector database client\n",
    "qdrant = QdrantClient(\":memory:\")  # Create in-memory Qdrant instance"
   ]
  },
  {
   "cell_type": "code",
   "execution_count": 6,
   "id": "6c03be93-a076-425e-8df1-5a8b6367e558",
   "metadata": {},
   "outputs": [
    {
     "data": {
      "text/plain": [
       "True"
      ]
     },
     "execution_count": 6,
     "metadata": {},
     "output_type": "execute_result"
    }
   ],
   "source": [
    "# Create collection to store wines\n",
    "qdrant.create_collection(\n",
    "    collection_name=\"books_collection\",\n",
    "    vectors_config=models.VectorParams(\n",
    "        size=encoder.get_sentence_embedding_dimension(),  # Vector size is defined by used model\n",
    "        distance=models.Distance.COSINE,\n",
    "    ),\n",
    ")"
   ]
  },
  {
   "cell_type": "code",
   "execution_count": 7,
   "id": "655d08af-758f-4338-b112-cf94045c7b0d",
   "metadata": {},
   "outputs": [],
   "source": [
    "# Vectorize and upload books\n",
    "qdrant.upload_points(\n",
    "    collection_name=\"books_collection\",\n",
    "    points=[\n",
    "        models.PointStruct(\n",
    "            id=idx,\n",
    "            vector=encoder.encode(doc[\"Genre\"]).tolist(),\n",
    "            payload=doc,\n",
    "        )\n",
    "        for idx, doc in enumerate(data_books)\n",
    "    ],\n",
    ")"
   ]
  },
  {
   "cell_type": "code",
   "execution_count": 8,
   "id": "f23bc999",
   "metadata": {},
   "outputs": [],
   "source": [
    "user_prompt = \"Suggest me an interesting history book\""
   ]
  },
  {
   "cell_type": "code",
   "execution_count": 9,
   "id": "68c9bff5-db38-4a98-b542-cd173af11b53",
   "metadata": {},
   "outputs": [
    {
     "name": "stdout",
     "output_type": "stream",
     "text": [
      "{'Title': 'Mossad', 'Author': 'Baz-Zohar, Michael', 'Genre': 'history', 'Height': 236, 'Publisher': 'Unknown'} score: 0.5355729212558695\n",
      "{'Title': 'History of England, Foundation', 'Author': 'Ackroyd, Peter', 'Genre': 'history', 'Height': 197, 'Publisher': 'Unknown'} score: 0.5355729212558695\n",
      "{'Title': 'City of Djinns', 'Author': 'Dalrymple, William', 'Genre': 'history', 'Height': 198, 'Publisher': 'Unknown'} score: 0.5355729212558695\n",
      "{'Title': 'Empire of the Mughal - Ruler of the World', 'Author': 'Rutherford, Alex', 'Genre': 'history', 'Height': 180, 'Publisher': 'Unknown'} score: 0.5355729212558695\n",
      "{'Title': \"Empire of the Mughal - The Serpent's Tooth\", 'Author': 'Rutherford, Alex', 'Genre': 'history', 'Height': 180, 'Publisher': 'Unknown'} score: 0.5355729212558695\n"
     ]
    },
    {
     "name": "stderr",
     "output_type": "stream",
     "text": [
      "C:\\Users\\LauraGalvisBarona\\AppData\\Local\\Temp\\ipykernel_5004\\3555496826.py:3: DeprecationWarning: `search` method is deprecated and will be removed in the future. Use `query_points` instead.\n",
      "  hits = qdrant.search(\n"
     ]
    }
   ],
   "source": [
    "# Search time for awesome books!\n",
    "\n",
    "hits = qdrant.search(\n",
    "    collection_name=\"books_collection\",\n",
    "    query_vector=encoder.encode(user_prompt).tolist(),\n",
    "    limit=5,\n",
    ")\n",
    "for hit in hits:\n",
    "    print(hit.payload, \"score:\", hit.score)"
   ]
  },
  {
   "cell_type": "code",
   "execution_count": 10,
   "id": "33243e5d-9e0d-4ec4-98e9-3fc56b8bdb10",
   "metadata": {},
   "outputs": [],
   "source": [
    "# Define a variable to hold the search results\n",
    "search_results = [hit.payload for hit in hits]"
   ]
  },
  {
   "cell_type": "code",
   "execution_count": 12,
   "id": "7421ae1f",
   "metadata": {},
   "outputs": [
    {
     "name": "stdout",
     "output_type": "stream",
     "text": [
      "Here are some interesting history books you might enjoy:\n",
      "\n",
      "1. **\"Orientalism\" by Edward Said** - This groundbreaking work examines Western perceptions of the East and how these perspectives shaped historical and cultural interactions.\n",
      "\n",
      "2. **\"Age of Wrath: A History of the First Crusade\" by Abraham Eraly** - A detailed narrative that explores the causes, events, and consequences of one of the significant events in history.\n",
      "\n",
      "3. **\"Last Mughal, The\" by William Dalrymple** - A captivating account of the life of the last Mughal emperor, Bahadur Shah II, and the fall of the Mughal Empire in India.\n",
      "\n",
      "4. **\"Freedom at Midnight\" by Dominique Lapierre and Larry Collins** - A riveting account of India's struggle for independence, focusing on the final days of British rule and the partition of India.\n",
      "\n",
      "5. **\"All the President's Men\" by Bob Woodward and Carl Bernstein** - A classic in political history that details the investigative journalism that uncovered the Watergate scandal.\n",
      "\n",
      "6. **\"Clash of Civilizations and Remaking of the World Order\" by Samuel Huntington** - An analysis of global politics post-Cold War, exploring how cultural and religious identities shape international relations.\n",
      "\n",
      "7. **\"City of Djinns: A Year in Delhi\" by William Dalrymple** - An engaging narrative that blends personal history and history of the city of Delhi, exploring its rich past and vibrant culture.\n",
      "\n",
      "8. **\"From Beirut to Jerusalem\" by Thomas L. Friedman** - A firsthand account of the tumultuous political landscape of the Middle East from the award-winning journalist.\n",
      "\n",
      "Choose any of these, and you’re bound to find a fascinating exploration of history!\n"
     ]
    }
   ],
   "source": [
    "import os\n",
    "from langchain_openai import AzureChatOpenAI\n",
    "from dotenv import load_dotenv\n",
    "\n",
    "load_dotenv()  # Load environment variables\n",
    "\n",
    "\n",
    "# Configuring AzureChatOpenAI\n",
    "\n",
    "openai_api_key = os.getenv(\"OPENAI_API_KEY\")\n",
    "openai_service = os.getenv(\"OPENAI_SERVICE\")\n",
    "\n",
    "\n",
    "llm = AzureChatOpenAI(\n",
    "\n",
    "    azure_deployment=\"gpt-4o-mini\",\n",
    "\n",
    "    api_key=openai_api_key,\n",
    "\n",
    "    azure_endpoint=f\"https://{openai_service}.openai.azure.com/\",\n",
    "\n",
    "    api_version=\"2024-08-01-preview\",\n",
    "\n",
    ")\n",
    "\n",
    "\n",
    "# Creating chat message\n",
    "\n",
    "messages = [\n",
    "\n",
    "    {\n",
    "\n",
    "        \"role\": \"system\",\n",
    "\n",
    "        \"content\": \"You are chatbot, a book specialist. Your top priority is to help guide users into selecting amazing book according their favorite genre.\",\n",
    "\n",
    "    },\n",
    "\n",
    "    {\"role\": \"user\", \"content\": user_prompt},\n",
    "\n",
    "    {\"role\": \"assistant\", \"content\": str(data_books)},\n",
    "]\n",
    "\n",
    "\n",
    "# Obtener la respuesta del modelo\n",
    "\n",
    "completion = llm.invoke(model=\"gpt-4o-mini\", input=messages)\n",
    "\n",
    "\n",
    "# Imprimir la respuesta\n",
    "\n",
    "print(completion.content)"
   ]
  }
 ],
 "metadata": {
  "kernelspec": {
   "display_name": "Python 3",
   "language": "python",
   "name": "python3"
  },
  "language_info": {
   "codemirror_mode": {
    "name": "ipython",
    "version": 3
   },
   "file_extension": ".py",
   "mimetype": "text/x-python",
   "name": "python",
   "nbconvert_exporter": "python",
   "pygments_lexer": "ipython3",
   "version": "3.13.1"
  }
 },
 "nbformat": 4,
 "nbformat_minor": 5
}
